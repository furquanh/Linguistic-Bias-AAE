{
 "cells": [
  {
   "cell_type": "code",
   "execution_count": 0,
   "metadata": {
    "application/vnd.databricks.v1+cell": {
     "cellMetadata": {},
     "inputWidgets": {},
     "nuid": "c664274e-da76-4816-bb80-759ed16ab311",
     "showTitle": false,
     "title": ""
    }
   },
   "outputs": [],
   "source": [
    "import os\n",
    "import pandas as pd\n",
    "import numpy as np\n",
    "from scipy.stats import wasserstein_distance\n",
    "\n",
    "maping = {'AAVE-dataset': 'African American English', 'AAVE-Filler-words-dataset': 'African American English - Filler Words',\n",
    "         'AAVE-hashtags-words-dataset': 'African American English - Hashtags', 'AAVE-emojis-words-dataset': 'African American English - emojis',\n",
    "         'AAVE-misspelling-words-dataset': 'African American English - misspelling', 'AAVE-misplaced-dangling-modifiers-dataset': 'African American English - Modifiers',\n",
    "         'original_dataset':'Original'}\n",
    "\n",
    "def get_log_prob_datasets(model):\n",
    "    directory_path = f\"./original_{model}/log_prob/\"\n",
    "\n",
    "    dataset_list = []\n",
    "    original = pd.DataFrame()\n",
    "\n",
    "    for filename in os.listdir(directory_path):\n",
    "        if filename.endswith(\".csv\"):\n",
    "            if filename in ['wasserstein_distance.csv', 'mean_log_prob.csv']:\n",
    "                continue\n",
    "            file_path = os.path.join(directory_path, filename)\n",
    "            dataset = pd.read_csv(file_path)\n",
    "            filename = filename.split('.')[0]\n",
    "            if filename == 'original_dataset':\n",
    "                original=dataset\n",
    "                continue\n",
    "            dataset_list.append((dataset, filename))\n",
    "            \n",
    "    return dataset_list, original"
   ]
  },
  {
   "cell_type": "code",
   "execution_count": 0,
   "metadata": {
    "application/vnd.databricks.v1+cell": {
     "cellMetadata": {},
     "inputWidgets": {},
     "nuid": "9aeaed3c-a5d2-4af0-ba78-9a2817d7e2b8",
     "showTitle": false,
     "title": ""
    }
   },
   "outputs": [],
   "source": [
    "print (\"Python\")"
   ]
  },
  {
   "cell_type": "code",
   "execution_count": 0,
   "metadata": {
    "application/vnd.databricks.v1+cell": {
     "cellMetadata": {},
     "inputWidgets": {},
     "nuid": "a349bf06-131f-45e8-8de3-ca64d01af241",
     "showTitle": false,
     "title": ""
    }
   },
   "outputs": [],
   "source": [
    "llama_datasets, llama_original_dataset = get_log_prob_datasets('llama2')\n",
    "mistral_datasets, mistral_original_dataset  = get_log_prob_datasets('mistral')\n",
    "gemma_datasets, gemma_original_dataset = get_log_prob_datasets('gemma')\n",
    "datasets = [(llama_datasets,llama_original_dataset, 'llama2'), (mistral_datasets,mistral_original_dataset, 'mistral'), (gemma_datasets,gemma_original_dataset, 'gemma')]"
   ]
  },
  {
   "cell_type": "code",
   "execution_count": 0,
   "metadata": {
    "application/vnd.databricks.v1+cell": {
     "cellMetadata": {},
     "inputWidgets": {},
     "nuid": "68d1160f-38ab-41a2-93c8-f33454114746",
     "showTitle": false,
     "title": ""
    },
    "tags": []
   },
   "outputs": [],
   "source": [
    "gemma_original_dataset.head()"
   ]
  },
  {
   "cell_type": "code",
   "execution_count": 0,
   "metadata": {
    "application/vnd.databricks.v1+cell": {
     "cellMetadata": {},
     "inputWidgets": {},
     "nuid": "2dc0d789-9f09-46cb-80c6-f612db5b01c2",
     "showTitle": false,
     "title": ""
    },
    "tags": []
   },
   "outputs": [],
   "source": [
    "col = mistral_original_dataset['Log Prob'].copy()\n",
    "col = col.map(lambda x: np.exp(x))"
   ]
  },
  {
   "cell_type": "code",
   "execution_count": 0,
   "metadata": {
    "application/vnd.databricks.v1+cell": {
     "cellMetadata": {},
     "inputWidgets": {},
     "nuid": "519abb8d-5773-4afb-8d3f-9b3727fec7cb",
     "showTitle": false,
     "title": ""
    },
    "tags": []
   },
   "outputs": [],
   "source": [
    "abc = mistral_original_dataset['Log Prob'].map(lambda x: np.exp(x)).to_numpy()\n",
    "abc.max()"
   ]
  },
  {
   "cell_type": "code",
   "execution_count": 0,
   "metadata": {
    "application/vnd.databricks.v1+cell": {
     "cellMetadata": {},
     "inputWidgets": {},
     "nuid": "21696013-1032-4069-b132-11cf134afb08",
     "showTitle": false,
     "title": ""
    },
    "tags": []
   },
   "outputs": [],
   "source": [
    "mistral_original_dataset['Log Prob'].to_numpy()"
   ]
  },
  {
   "cell_type": "code",
   "execution_count": 0,
   "metadata": {
    "application/vnd.databricks.v1+cell": {
     "cellMetadata": {},
     "inputWidgets": {},
     "nuid": "8fe11741-8765-45c5-8501-e914d14b586d",
     "showTitle": false,
     "title": ""
    },
    "tags": []
   },
   "outputs": [],
   "source": [
    "mistral_original_dataset['Log Prob'].to_numpy().mean()"
   ]
  },
  {
   "cell_type": "code",
   "execution_count": 0,
   "metadata": {
    "application/vnd.databricks.v1+cell": {
     "cellMetadata": {},
     "inputWidgets": {},
     "nuid": "e10fbc63-a1aa-4d67-802e-895993eaf34f",
     "showTitle": false,
     "title": ""
    },
    "tags": []
   },
   "outputs": [],
   "source": [
    "llama_datasets[0][0].shape"
   ]
  },
  {
   "cell_type": "code",
   "execution_count": 0,
   "metadata": {
    "application/vnd.databricks.v1+cell": {
     "cellMetadata": {},
     "inputWidgets": {},
     "nuid": "10bdd3dc-c332-48b0-a946-a6423a7f9459",
     "showTitle": false,
     "title": ""
    },
    "tags": []
   },
   "outputs": [],
   "source": [
    "for model_dataset, model_original, model_name in datasets:\n",
    "    mean_log_prob = pd.DataFrame({'Type':[], 'Mean Log Prob': []})\n",
    "    mean_log_prob = pd.concat([mean_log_prob, pd.DataFrame([{'Type': 'Original','Mean Log Prob': np.mean(model_original['Log Prob'].to_numpy())}])])\n",
    "    wasserstein = pd.DataFrame({'Type':[],'Wasserstein Distance Vs Standard English': []})\n",
    "    org_prob = model_original['Log Prob'].map(lambda x: np.exp(x)).to_numpy()\n",
    "    for aae_dataset, aae_dataset_name in model_dataset:\n",
    "        aae_prob = aae_dataset['Log Prob'].map(lambda x: np.exp(x)).to_numpy()\n",
    "        distance = wasserstein_distance(org_prob,aae_prob)\n",
    "        new_row = {'Type': aae_dataset_name, 'Wasserstein Distance Vs Standard English': distance}\n",
    "        wasserstein = pd.concat([wasserstein, pd.DataFrame([new_row])], ignore_index=True)\n",
    "        mean_log_prob = pd.concat([mean_log_prob, pd.DataFrame([{'Type': aae_dataset_name,'Mean Log Prob': np.mean(aae_dataset['Log Prob'].to_numpy())}])])\n",
    "        print(\"=======================\")\n",
    "        print(f\"Model: {model_name}\")\n",
    "        print(f\"AAE Dataset: {aae_dataset_name}\")\n",
    "        print(f\"wasserstein_distance: {distance}\")\n",
    "    mean_log_prob.to_csv(f\"./original_{model_name}/log_prob/mean_log_prob.csv\", index=False)\n",
    "    wasserstein.to_csv(f\"./original_{model_name}/log_prob/wasserstein_distance.csv\", index=False)"
   ]
  },
  {
   "cell_type": "code",
   "execution_count": 0,
   "metadata": {
    "application/vnd.databricks.v1+cell": {
     "cellMetadata": {},
     "inputWidgets": {},
     "nuid": "45c86b0a-dd3b-4a94-84e6-0766be582ddc",
     "showTitle": false,
     "title": ""
    },
    "tags": []
   },
   "outputs": [],
   "source": [
    "gemma_datasets, gemma_original_dataset = get_log_prob_datasets('gemma')\n",
    "gemma_mean_log = pd.read_csv(f\"./gemma/log_prob/mean_log_prob.csv\")\n",
    "gemma_cfsb = pd.read_csv(f\"./gemma/log_prob/wasserstein_distance.csv\")"
   ]
  },
  {
   "cell_type": "code",
   "execution_count": 0,
   "metadata": {
    "application/vnd.databricks.v1+cell": {
     "cellMetadata": {},
     "inputWidgets": {},
     "nuid": "3060e3b0-3bed-4693-88da-2af7e0b30508",
     "showTitle": false,
     "title": ""
    },
    "tags": []
   },
   "outputs": [],
   "source": [
    "mean_log_prob = pd.DataFrame({'Type':[], 'Mean Log Prob': []})\n",
    "mean_log_prob = pd.concat([mean_log_prob, pd.DataFrame([{'Type': 'Original','Mean Log Prob': np.mean(gemma_original_dataset['Log Prob'].to_numpy())}])])\n",
    "wasserstein = pd.DataFrame({'Type':[],'Wasserstein Distance Vs Standard English': []})\n",
    "org_prob = gemma_original_dataset['Log Prob'].map(lambda x: np.exp(x)).to_numpy()\n",
    "for aae_dataset, aae_dataset_name in gemma_datasets:\n",
    "        aae_prob = aae_dataset['Log Prob'].map(lambda x: np.exp(x)).to_numpy()\n",
    "        distance = wasserstein_distance(org_prob,aae_prob)\n",
    "        new_row = {'Type': maping[aae_dataset_name], 'Wasserstein Distance Vs Standard English': distance}\n",
    "        wasserstein = pd.concat([wasserstein, pd.DataFrame([new_row])], ignore_index=True)\n",
    "        mean_log_prob = pd.concat([mean_log_prob, pd.DataFrame([{'Type': maping[aae_dataset_name],'Mean Log Prob': np.mean(aae_dataset['Log Prob'].to_numpy())}])])\n",
    "        print(\"=======================\")\n",
    "        print(f\"Model: gemma\")\n",
    "        print(f\"AAE Dataset: {aae_dataset_name}\")\n",
    "        print(f\"wasserstein_distance: {distance}\")"
   ]
  },
  {
   "cell_type": "code",
   "execution_count": 0,
   "metadata": {
    "application/vnd.databricks.v1+cell": {
     "cellMetadata": {},
     "inputWidgets": {},
     "nuid": "14a8dae1-d303-4b47-a326-80af84ce880f",
     "showTitle": false,
     "title": ""
    },
    "tags": []
   },
   "outputs": [],
   "source": [
    "mean_log_prob.to_csv(f\"./gemma/log_prob/mean_log_prob.csv\", index=False)\n",
    "wasserstein.to_csv(f\"./gemma/log_prob/wasserstein_distance.csv\", index=False)"
   ]
  },
  {
   "cell_type": "code",
   "execution_count": 0,
   "metadata": {
    "application/vnd.databricks.v1+cell": {
     "cellMetadata": {},
     "inputWidgets": {},
     "nuid": "b04aa2bd-e7c4-4fb0-8651-73ebc5977c95",
     "showTitle": false,
     "title": ""
    }
   },
   "outputs": [],
   "source": []
  }
 ],
 "metadata": {
  "application/vnd.databricks.v1+notebook": {
   "dashboards": [],
   "environmentMetadata": null,
   "language": "python",
   "notebookMetadata": {
    "pythonIndentUnit": 4
   },
   "notebookName": "Conterfactual Sentiment Bias",
   "widgets": {}
  },
  "kernelspec": {
   "display_name": "augment",
   "language": "python",
   "name": "augmentation-project"
  },
  "language_info": {
   "codemirror_mode": {
    "name": "ipython",
    "version": 3
   },
   "file_extension": ".py",
   "mimetype": "text/x-python",
   "name": "python",
   "nbconvert_exporter": "python",
   "pygments_lexer": "ipython3",
   "version": "3.9.18"
  }
 },
 "nbformat": 4,
 "nbformat_minor": 0
}
