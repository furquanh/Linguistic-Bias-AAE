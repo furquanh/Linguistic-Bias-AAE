{
 "cells": [
  {
   "cell_type": "code",
   "execution_count": 54,
   "id": "9efdd580-08b4-43d1-b87c-877494edcaaf",
   "metadata": {
    "tags": []
   },
   "outputs": [
    {
     "name": "stdout",
     "output_type": "stream",
     "text": [
      "['orginal_dataset_cleaned_classification_report.json', 'African American English_cleaned_classification_report.json', 'Filler Words_cleaned_classification_report.json', 'Emojify _cleaned_classification_report.json', 'Misspelling_continued_cleaned_classification_report.json', 'Mixed Language_cleaned_classification_report.json', 'Mixed Constructions_cleaned_classification_report.json', 'Subject-Verb Agreement Errors_cleaned_classification_report.json', 'Sentence Fragments_cleaned_classification_report.json', 'Run-on Sentences and Comma Splices_cleaned_classification_report.json', 'Pronoun-Antecedent Agreement Errors_cleaned_classification_report.json', 'Misplaced or Dangling Modifiers_cleaned_classification_report.json', 'Incorrect Use of Articles_cleaned_classification_report.json', 'Incorrect Tense Use_cleaned_classification_report.json', 'Formalize_cleaned_classification_report.json', 'Hashtags_cleaned_classification_report.json']\n"
     ]
    }
   ],
   "source": [
    "import os\n",
    "import json\n",
    "def get_folder_names(directory):\n",
    "    \"\"\"\n",
    "    Returns a list of names of all folders in the given directory.\n",
    "\n",
    "    :param directory: Path to the directory\n",
    "    :return: List of folder names\n",
    "    \"\"\"\n",
    "    file_names = []\n",
    "    for entry in os.listdir(directory):\n",
    "        full_path = os.path.join(directory, entry)\n",
    "        if (entry[-5:] == '.json'):\n",
    "            file_names.append(entry)\n",
    "        #if os.path.isdir(full_path):\n",
    "            \n",
    "    return file_names\n",
    "dir_path = \"../../0-shot-with-datasets-Mistral-0.6/\"\n",
    "\n",
    "# Get the folder names\n",
    "files = get_folder_names(dir_path)\n",
    "print(files)"
   ]
  },
  {
   "cell_type": "code",
   "execution_count": 55,
   "id": "6b79621c-8932-4201-8f7d-61ee44b4d1c2",
   "metadata": {
    "tags": []
   },
   "outputs": [],
   "source": [
    "required = ['Original_classification_report.json', 'Original - Filler Words_classification_report.json', 'Original - emojis_classification_report.json', 'Original - misspelling_classification_report.json', 'Original - Modifiers_classification_report.json', 'Original - Hashtags_classification_report.json']\n",
    "maping = {'orginal_dataset_cleaned_classification_report.json': 'Original_classification_report.json', 'Filler Words_cleaned_classification_report.json': 'Original - Filler Words_classification_report.json',\n",
    "         'Emojify _cleaned_classification_report.json': 'Original - emojis_classification_report.json', 'Misspelling_continued_cleaned_classification_report.json': 'Original - misspelling_classification_report.json',\n",
    "         'Misplaced or Dangling Modifiers_cleaned_classification_report.json': 'Original - Modifiers_classification_report.json', 'Hashtags_cleaned_classification_report.json': 'Original - Hashtags_classification_report.json'}"
   ]
  },
  {
   "cell_type": "code",
   "execution_count": 56,
   "id": "cc12fefd-8822-48b2-af45-33d745562835",
   "metadata": {
    "tags": []
   },
   "outputs": [],
   "source": [
    "maping2 = {'orginal_dataset_cleaned_classification_report.json':'Original',\n",
    "'Filler Words_cleaned_classification_report.json':'Original - Filler Words',\n",
    "'Emojify _cleaned_classification_report.json':'Original - emojis',\n",
    "'Misspelling_continued_cleaned_classification_report.json':'Original - misspelling',\n",
    "'Misplaced or Dangling Modifiers_cleaned_classification_report.json':'Original - Modifiers',\n",
    "'Hashtags_cleaned_classification_report.json':'Original - Hashtags'}"
   ]
  },
  {
   "cell_type": "code",
   "execution_count": 57,
   "id": "5d5ab4db-a76c-44a4-a28f-1a79f64d44ec",
   "metadata": {
    "tags": []
   },
   "outputs": [
    {
     "name": "stdout",
     "output_type": "stream",
     "text": [
      "orginal_dataset_cleaned_classification_report.json\n",
      "Filler Words_cleaned_classification_report.json\n",
      "Emojify _cleaned_classification_report.json\n",
      "Misspelling_continued_cleaned_classification_report.json\n",
      "Misplaced or Dangling Modifiers_cleaned_classification_report.json\n",
      "Hashtags_cleaned_classification_report.json\n"
     ]
    }
   ],
   "source": [
    "for item in maping.keys():\n",
    "    print(item)"
   ]
  },
  {
   "cell_type": "code",
   "execution_count": 58,
   "id": "d99633da-522f-451e-97e5-a9c569ee1f54",
   "metadata": {
    "tags": []
   },
   "outputs": [
    {
     "name": "stdout",
     "output_type": "stream",
     "text": [
      "Metrics table saved to results_table/Original/mistral_metrics_table-new.csv\n"
     ]
    }
   ],
   "source": [
    "import pandas as pd\n",
    "import json\n",
    "\n",
    "directory = \"../../0-shot-with-datasets-Mistral-0.6/\"\n",
    "\n",
    "# Metrics to plot\n",
    "metrics = [\"TPR\", \"FPR\", \"TNR\", \"FNR\"]  # Include more metrics if needed\n",
    "\n",
    "# Initialize data storage\n",
    "data = {metric: [] for metric in metrics}\n",
    "\n",
    "# Assuming 'files' is a list of file names you want to process\n",
    "# Replace 'files' with the actual list of file names\n",
    "#files = [...]  # Add your list of files here\n",
    "\n",
    "# Process each file\n",
    "for file_name in maping.keys():\n",
    "    # Construct the file path\n",
    "    file_path = f\"{directory}/{file_name}\"\n",
    "    \n",
    "    # Load the JSON content\n",
    "    with open(file_path, 'r') as file:\n",
    "        content = json.load(file)\n",
    "        \n",
    "        # Simplify the file name for the plot\n",
    "        simplified_name = maping2[file_name]#file_name.split('_')[0]\n",
    "        \n",
    "        for metric in metrics:\n",
    "            value = round(content.get(metric, 0), 4)  # Round the metric value\n",
    "            data[metric].append( value)\n",
    "\n",
    "# Function to sort the data and prepare for DataFrame\n",
    "def prepare_data(data):\n",
    "    sorted_data = {}\n",
    "    for metric, values in data.items():\n",
    "        # Sort by name, ensuring 'original_dataset' comes first, and then by value\n",
    "        sorted_values = sorted(values)\n",
    "        sorted_data[metric] = [value for name, value in sorted_values]\n",
    "    return sorted_data\n",
    "\n",
    "# Prepare and sort the data\n",
    "#sorted_data = prepare_data(data)\n",
    "\n",
    "#print(sorted_data)\n",
    "\n",
    "# Create a DataFrame\n",
    "df = pd.DataFrame(data)  # Assuming the same order for all metrics\n",
    "\n",
    "# Save the DataFrame as a CSV file\n",
    "csv_file_path = f\"results_table/Original/mistral_metrics_table-new.csv\"\n",
    "#df['Augmentation Name'] = [file_name.split('_')[0] for file_name in files]\n",
    "df.insert(0,'Augmentation Name', [maping2[file_name] for file_name in maping.keys()], )\n",
    "df.to_csv(csv_file_path, index=False)\n",
    "\n",
    "print(f\"Metrics table saved to {csv_file_path}\")"
   ]
  }
 ],
 "metadata": {
  "kernelspec": {
   "display_name": "Python 3 (ipykernel)",
   "language": "python",
   "name": "python3"
  },
  "language_info": {
   "codemirror_mode": {
    "name": "ipython",
    "version": 3
   },
   "file_extension": ".py",
   "mimetype": "text/x-python",
   "name": "python",
   "nbconvert_exporter": "python",
   "pygments_lexer": "ipython3",
   "version": "3.9.18"
  }
 },
 "nbformat": 4,
 "nbformat_minor": 5
}
